{
 "cells": [
  {
   "cell_type": "code",
   "execution_count": 99,
   "id": "790aa958",
   "metadata": {},
   "outputs": [],
   "source": [
    "library(tidyverse)\n",
    "library(RColorBrewer)\n",
    "library(repr)"
   ]
  },
  {
   "cell_type": "code",
   "execution_count": 3,
   "id": "85653772",
   "metadata": {},
   "outputs": [],
   "source": [
    "sales_Data <- read.csv('competitive-data-science-predict-future-sales/sales_train.csv')\n",
    "testData <- read.csv('competitive-data-science-predict-future-sales/test.csv')\n",
    "itemsData <- read.csv('competitive-data-science-predict-future-sales/items.csv')\n",
    "shopsData <- read.csv('competitive-data-science-predict-future-sales/shops.csv')\n",
    "itemsCatData <- read.csv('competitive-data-science-predict-future-sales/item_categories.csv')"
   ]
  },
  {
   "cell_type": "code",
   "execution_count": 4,
   "id": "94bee707",
   "metadata": {},
   "outputs": [
    {
     "data": {
      "text/html": [
       "<table class=\"dataframe\">\n",
       "<caption>A data.frame: 6 × 6</caption>\n",
       "<thead>\n",
       "\t<tr><th></th><th scope=col>date</th><th scope=col>date_block_num</th><th scope=col>shop_id</th><th scope=col>item_id</th><th scope=col>item_price</th><th scope=col>item_cnt_day</th></tr>\n",
       "\t<tr><th></th><th scope=col>&lt;chr&gt;</th><th scope=col>&lt;int&gt;</th><th scope=col>&lt;int&gt;</th><th scope=col>&lt;int&gt;</th><th scope=col>&lt;dbl&gt;</th><th scope=col>&lt;dbl&gt;</th></tr>\n",
       "</thead>\n",
       "<tbody>\n",
       "\t<tr><th scope=row>1</th><td>02.01.2013</td><td>0</td><td>59</td><td>22154</td><td> 999.00</td><td> 1</td></tr>\n",
       "\t<tr><th scope=row>2</th><td>03.01.2013</td><td>0</td><td>25</td><td> 2552</td><td> 899.00</td><td> 1</td></tr>\n",
       "\t<tr><th scope=row>3</th><td>05.01.2013</td><td>0</td><td>25</td><td> 2552</td><td> 899.00</td><td>-1</td></tr>\n",
       "\t<tr><th scope=row>4</th><td>06.01.2013</td><td>0</td><td>25</td><td> 2554</td><td>1709.05</td><td> 1</td></tr>\n",
       "\t<tr><th scope=row>5</th><td>15.01.2013</td><td>0</td><td>25</td><td> 2555</td><td>1099.00</td><td> 1</td></tr>\n",
       "\t<tr><th scope=row>6</th><td>10.01.2013</td><td>0</td><td>25</td><td> 2564</td><td> 349.00</td><td> 1</td></tr>\n",
       "</tbody>\n",
       "</table>\n"
      ],
      "text/latex": [
       "A data.frame: 6 × 6\n",
       "\\begin{tabular}{r|llllll}\n",
       "  & date & date\\_block\\_num & shop\\_id & item\\_id & item\\_price & item\\_cnt\\_day\\\\\n",
       "  & <chr> & <int> & <int> & <int> & <dbl> & <dbl>\\\\\n",
       "\\hline\n",
       "\t1 & 02.01.2013 & 0 & 59 & 22154 &  999.00 &  1\\\\\n",
       "\t2 & 03.01.2013 & 0 & 25 &  2552 &  899.00 &  1\\\\\n",
       "\t3 & 05.01.2013 & 0 & 25 &  2552 &  899.00 & -1\\\\\n",
       "\t4 & 06.01.2013 & 0 & 25 &  2554 & 1709.05 &  1\\\\\n",
       "\t5 & 15.01.2013 & 0 & 25 &  2555 & 1099.00 &  1\\\\\n",
       "\t6 & 10.01.2013 & 0 & 25 &  2564 &  349.00 &  1\\\\\n",
       "\\end{tabular}\n"
      ],
      "text/markdown": [
       "\n",
       "A data.frame: 6 × 6\n",
       "\n",
       "| <!--/--> | date &lt;chr&gt; | date_block_num &lt;int&gt; | shop_id &lt;int&gt; | item_id &lt;int&gt; | item_price &lt;dbl&gt; | item_cnt_day &lt;dbl&gt; |\n",
       "|---|---|---|---|---|---|---|\n",
       "| 1 | 02.01.2013 | 0 | 59 | 22154 |  999.00 |  1 |\n",
       "| 2 | 03.01.2013 | 0 | 25 |  2552 |  899.00 |  1 |\n",
       "| 3 | 05.01.2013 | 0 | 25 |  2552 |  899.00 | -1 |\n",
       "| 4 | 06.01.2013 | 0 | 25 |  2554 | 1709.05 |  1 |\n",
       "| 5 | 15.01.2013 | 0 | 25 |  2555 | 1099.00 |  1 |\n",
       "| 6 | 10.01.2013 | 0 | 25 |  2564 |  349.00 |  1 |\n",
       "\n"
      ],
      "text/plain": [
       "  date       date_block_num shop_id item_id item_price item_cnt_day\n",
       "1 02.01.2013 0              59      22154    999.00     1          \n",
       "2 03.01.2013 0              25       2552    899.00     1          \n",
       "3 05.01.2013 0              25       2552    899.00    -1          \n",
       "4 06.01.2013 0              25       2554   1709.05     1          \n",
       "5 15.01.2013 0              25       2555   1099.00     1          \n",
       "6 10.01.2013 0              25       2564    349.00     1          "
      ]
     },
     "metadata": {},
     "output_type": "display_data"
    }
   ],
   "source": [
    "head(sales_Data)"
   ]
  },
  {
   "cell_type": "code",
   "execution_count": 6,
   "id": "6a21d404",
   "metadata": {},
   "outputs": [
    {
     "data": {
      "text/html": [
       "<table class=\"dataframe\">\n",
       "<caption>A data.frame: 6 × 6</caption>\n",
       "<thead>\n",
       "\t<tr><th></th><th scope=col>date</th><th scope=col>date_block_num</th><th scope=col>shop_id</th><th scope=col>item_id</th><th scope=col>item_price</th><th scope=col>item_cnt_day</th></tr>\n",
       "\t<tr><th></th><th scope=col>&lt;date&gt;</th><th scope=col>&lt;int&gt;</th><th scope=col>&lt;int&gt;</th><th scope=col>&lt;int&gt;</th><th scope=col>&lt;dbl&gt;</th><th scope=col>&lt;dbl&gt;</th></tr>\n",
       "</thead>\n",
       "<tbody>\n",
       "\t<tr><th scope=row>1</th><td>2013-01-01</td><td>0</td><td>19</td><td>18976</td><td>399</td><td>1</td></tr>\n",
       "\t<tr><th scope=row>2</th><td>2013-01-01</td><td>0</td><td>19</td><td>18284</td><td>199</td><td>1</td></tr>\n",
       "\t<tr><th scope=row>3</th><td>2013-01-01</td><td>0</td><td>19</td><td>18320</td><td>199</td><td>1</td></tr>\n",
       "\t<tr><th scope=row>4</th><td>2013-01-01</td><td>0</td><td>19</td><td>18329</td><td>299</td><td>1</td></tr>\n",
       "\t<tr><th scope=row>5</th><td>2013-01-01</td><td>0</td><td>19</td><td>19367</td><td>399</td><td>1</td></tr>\n",
       "\t<tr><th scope=row>6</th><td>2013-01-01</td><td>0</td><td>19</td><td>18823</td><td>299</td><td>1</td></tr>\n",
       "</tbody>\n",
       "</table>\n"
      ],
      "text/latex": [
       "A data.frame: 6 × 6\n",
       "\\begin{tabular}{r|llllll}\n",
       "  & date & date\\_block\\_num & shop\\_id & item\\_id & item\\_price & item\\_cnt\\_day\\\\\n",
       "  & <date> & <int> & <int> & <int> & <dbl> & <dbl>\\\\\n",
       "\\hline\n",
       "\t1 & 2013-01-01 & 0 & 19 & 18976 & 399 & 1\\\\\n",
       "\t2 & 2013-01-01 & 0 & 19 & 18284 & 199 & 1\\\\\n",
       "\t3 & 2013-01-01 & 0 & 19 & 18320 & 199 & 1\\\\\n",
       "\t4 & 2013-01-01 & 0 & 19 & 18329 & 299 & 1\\\\\n",
       "\t5 & 2013-01-01 & 0 & 19 & 19367 & 399 & 1\\\\\n",
       "\t6 & 2013-01-01 & 0 & 19 & 18823 & 299 & 1\\\\\n",
       "\\end{tabular}\n"
      ],
      "text/markdown": [
       "\n",
       "A data.frame: 6 × 6\n",
       "\n",
       "| <!--/--> | date &lt;date&gt; | date_block_num &lt;int&gt; | shop_id &lt;int&gt; | item_id &lt;int&gt; | item_price &lt;dbl&gt; | item_cnt_day &lt;dbl&gt; |\n",
       "|---|---|---|---|---|---|---|\n",
       "| 1 | 2013-01-01 | 0 | 19 | 18976 | 399 | 1 |\n",
       "| 2 | 2013-01-01 | 0 | 19 | 18284 | 199 | 1 |\n",
       "| 3 | 2013-01-01 | 0 | 19 | 18320 | 199 | 1 |\n",
       "| 4 | 2013-01-01 | 0 | 19 | 18329 | 299 | 1 |\n",
       "| 5 | 2013-01-01 | 0 | 19 | 19367 | 399 | 1 |\n",
       "| 6 | 2013-01-01 | 0 | 19 | 18823 | 299 | 1 |\n",
       "\n"
      ],
      "text/plain": [
       "  date       date_block_num shop_id item_id item_price item_cnt_day\n",
       "1 2013-01-01 0              19      18976   399        1           \n",
       "2 2013-01-01 0              19      18284   199        1           \n",
       "3 2013-01-01 0              19      18320   199        1           \n",
       "4 2013-01-01 0              19      18329   299        1           \n",
       "5 2013-01-01 0              19      19367   399        1           \n",
       "6 2013-01-01 0              19      18823   299        1           "
      ]
     },
     "metadata": {},
     "output_type": "display_data"
    },
    {
     "data": {
      "text/html": [],
      "text/latex": [],
      "text/markdown": [],
      "text/plain": [
       " \n",
       "1"
      ]
     },
     "metadata": {},
     "output_type": "display_data"
    }
   ],
   "source": [
    "sales_Data$date <- as.Date(sales_Data$date, format = \"%d.%m.%Y\")\n",
    "sales_Data <- sales_Data %>% arrange(sales_Data$date)\n",
    "head(sales_Data)"
   ]
  },
  {
   "cell_type": "code",
   "execution_count": 73,
   "id": "b68b9f8a",
   "metadata": {},
   "outputs": [
    {
     "data": {
      "text/plain": [
       "      date            date_block_num     shop_id      item_id     \n",
       " Min.   :2013-01-01   Min.   : 0.00   Min.   : 0   Min.   :    0  \n",
       " 1st Qu.:2013-08-01   1st Qu.: 7.00   1st Qu.:22   1st Qu.: 4476  \n",
       " Median :2014-03-04   Median :14.00   Median :31   Median : 9343  \n",
       " Mean   :2014-04-03   Mean   :14.57   Mean   :33   Mean   :10197  \n",
       " 3rd Qu.:2014-12-05   3rd Qu.:23.00   3rd Qu.:47   3rd Qu.:15684  \n",
       " Max.   :2015-10-31   Max.   :33.00   Max.   :59   Max.   :22169  \n",
       "   item_price        item_cnt_day     \n",
       " Min.   :    -1.0   Min.   : -22.000  \n",
       " 1st Qu.:   249.0   1st Qu.:   1.000  \n",
       " Median :   399.0   Median :   1.000  \n",
       " Mean   :   890.9   Mean   :   1.243  \n",
       " 3rd Qu.:   999.0   3rd Qu.:   1.000  \n",
       " Max.   :307980.0   Max.   :2169.000  "
      ]
     },
     "metadata": {},
     "output_type": "display_data"
    },
    {
     "data": {
      "text/plain": [
       "       V1              V2        \n",
       " Min.   : 0.00   Min.   :   330  \n",
       " 1st Qu.:14.75   1st Qu.: 23333  \n",
       " Median :29.50   Median : 50176  \n",
       " Mean   :29.50   Mean   : 60803  \n",
       " 3rd Qu.:44.25   3rd Qu.: 69562  \n",
       " Max.   :59.00   Max.   :310777  "
      ]
     },
     "metadata": {},
     "output_type": "display_data"
    }
   ],
   "source": [
    "# df <- sum(sales_Data[which(sales_Data$shop_id=='1'), 6])\n",
    "df<-c()\n",
    "# nrow(sales_Data)\n",
    "summary(sales_Data)\n",
    "shops <- sort(unique(sales_Data$shop_id))\n",
    "for(shop in shops){   \n",
    "    df<-rbind(df,c(shop,sum(sales_Data[which(sales_Data$shop_id==shop), 6])))\n",
    "#     cat(shop,\"\\t\",df,\"\\n\")\n",
    "}\n",
    "# head(df)\n",
    "summary(df)"
   ]
  },
  {
   "cell_type": "code",
   "execution_count": 105,
   "id": "fe94f6ba",
   "metadata": {},
   "outputs": [
    {
     "name": "stderr",
     "output_type": "stream",
     "text": [
      "Warning message in brewer.pal(10, \"Set2\"):\n",
      "\"n too large, allowed maximum for palette Set2 is 8\n",
      "Returning the palette you asked for with that many colors\n",
      "\"\n",
      "Warning message in plot.window(xlim, ylim, log = log, ...):\n",
      "\"graphical parameter \"type\" is obsolete\"\n",
      "Warning message in axis(if (horiz) 2 else 1, at = at.l, labels = names.arg, lty = axis.lty, :\n",
      "\"graphical parameter \"type\" is obsolete\"\n",
      "Warning message in title(main = main, sub = sub, xlab = xlab, ylab = ylab, ...):\n",
      "\"graphical parameter \"type\" is obsolete\"\n",
      "Warning message in axis(if (horiz) 1 else 2, cex.axis = cex.axis, ...):\n",
      "\"graphical parameter \"type\" is obsolete\"\n"
     ]
    },
    {
     "data": {
      "image/png": "[encoded data removed]",
      "text/plain": [
       "Plot with title \"Items sold per Shop ID\""
      ]
     },
     "metadata": {
      "image/png": {
       "height": 600,
       "width": 1080
      }
     },
     "output_type": "display_data"
    }
   ],
   "source": [
    "coul <- brewer.pal(10, \"Set2\")\n",
    "options(repr.plot.width=18, repr.plot.height=10)\n",
    "barplot(df[,2] ~ df[,1],type=\"h\",ylab=\"\",xlab=\"Shop ID\",main=\"Items sold per Shop ID\",las=2,cex.names=1,col=coul)"
   ]
  },
  {
   "cell_type": "code",
   "execution_count": 76,
   "id": "de862c33",
   "metadata": {},
   "outputs": [
    {
     "name": "stderr",
     "output_type": "stream",
     "text": [
      "\u001b[1m\u001b[22m`summarise()` has grouped output by 'date_block_num', 'shop_id', 'item_category_id'. You can override using the\n",
      "`.groups` argument.\n"
     ]
    },
    {
     "data": {
      "text/html": [
       "<table class=\"dataframe\">\n",
       "<caption>A grouped_df: 6 × 8</caption>\n",
       "<thead>\n",
       "\t<tr><th scope=col>date_block_num</th><th scope=col>shop_id</th><th scope=col>item_category_id</th><th scope=col>item_id</th><th scope=col>item_cnt_month</th><th scope=col>mean_item_cnt</th><th scope=col>mean_item_price</th><th scope=col>revenue_month</th></tr>\n",
       "\t<tr><th scope=col>&lt;int&gt;</th><th scope=col>&lt;int&gt;</th><th scope=col>&lt;int&gt;</th><th scope=col>&lt;int&gt;</th><th scope=col>&lt;dbl&gt;</th><th scope=col>&lt;dbl&gt;</th><th scope=col>&lt;dbl&gt;</th><th scope=col>&lt;dbl&gt;</th></tr>\n",
       "</thead>\n",
       "<tbody>\n",
       "\t<tr><td>0</td><td>57</td><td>2</td><td>5572</td><td>10</td><td>1.666667</td><td>1322</td><td>13220</td></tr>\n",
       "\t<tr><td>0</td><td>57</td><td>2</td><td>5573</td><td> 1</td><td>1.000000</td><td> 560</td><td>  560</td></tr>\n",
       "\t<tr><td>0</td><td>57</td><td>2</td><td>5575</td><td> 4</td><td>1.333333</td><td> 806</td><td> 3224</td></tr>\n",
       "\t<tr><td>0</td><td>57</td><td>2</td><td>5576</td><td> 5</td><td>1.000000</td><td>2231</td><td>11155</td></tr>\n",
       "\t<tr><td>0</td><td>57</td><td>2</td><td>5609</td><td> 1</td><td>1.000000</td><td>2381</td><td> 2381</td></tr>\n",
       "\t<tr><td>0</td><td>57</td><td>2</td><td>5612</td><td> 1</td><td>1.000000</td><td>3623</td><td> 3623</td></tr>\n",
       "</tbody>\n",
       "</table>\n"
      ],
      "text/latex": [
       "A grouped\\_df: 6 × 8\n",
       "\\begin{tabular}{llllllll}\n",
       " date\\_block\\_num & shop\\_id & item\\_category\\_id & item\\_id & item\\_cnt\\_month & mean\\_item\\_cnt & mean\\_item\\_price & revenue\\_month\\\\\n",
       " <int> & <int> & <int> & <int> & <dbl> & <dbl> & <dbl> & <dbl>\\\\\n",
       "\\hline\n",
       "\t 0 & 57 & 2 & 5572 & 10 & 1.666667 & 1322 & 13220\\\\\n",
       "\t 0 & 57 & 2 & 5573 &  1 & 1.000000 &  560 &   560\\\\\n",
       "\t 0 & 57 & 2 & 5575 &  4 & 1.333333 &  806 &  3224\\\\\n",
       "\t 0 & 57 & 2 & 5576 &  5 & 1.000000 & 2231 & 11155\\\\\n",
       "\t 0 & 57 & 2 & 5609 &  1 & 1.000000 & 2381 &  2381\\\\\n",
       "\t 0 & 57 & 2 & 5612 &  1 & 1.000000 & 3623 &  3623\\\\\n",
       "\\end{tabular}\n"
      ],
      "text/markdown": [
       "\n",
       "A grouped_df: 6 × 8\n",
       "\n",
       "| date_block_num &lt;int&gt; | shop_id &lt;int&gt; | item_category_id &lt;int&gt; | item_id &lt;int&gt; | item_cnt_month &lt;dbl&gt; | mean_item_cnt &lt;dbl&gt; | mean_item_price &lt;dbl&gt; | revenue_month &lt;dbl&gt; |\n",
       "|---|---|---|---|---|---|---|---|\n",
       "| 0 | 57 | 2 | 5572 | 10 | 1.666667 | 1322 | 13220 |\n",
       "| 0 | 57 | 2 | 5573 |  1 | 1.000000 |  560 |   560 |\n",
       "| 0 | 57 | 2 | 5575 |  4 | 1.333333 |  806 |  3224 |\n",
       "| 0 | 57 | 2 | 5576 |  5 | 1.000000 | 2231 | 11155 |\n",
       "| 0 | 57 | 2 | 5609 |  1 | 1.000000 | 2381 |  2381 |\n",
       "| 0 | 57 | 2 | 5612 |  1 | 1.000000 | 3623 |  3623 |\n",
       "\n"
      ],
      "text/plain": [
       "  date_block_num shop_id item_category_id item_id item_cnt_month mean_item_cnt\n",
       "1 0              57      2                5572    10             1.666667     \n",
       "2 0              57      2                5573     1             1.000000     \n",
       "3 0              57      2                5575     4             1.333333     \n",
       "4 0              57      2                5576     5             1.000000     \n",
       "5 0              57      2                5609     1             1.000000     \n",
       "6 0              57      2                5612     1             1.000000     \n",
       "  mean_item_price revenue_month\n",
       "1 1322            13220        \n",
       "2  560              560        \n",
       "3  806             3224        \n",
       "4 2231            11155        \n",
       "5 2381             2381        \n",
       "6 3623             3623        "
      ]
     },
     "metadata": {},
     "output_type": "display_data"
    },
    {
     "data": {
      "text/plain": [
       " date_block_num     shop_id      item_category_id    item_id     \n",
       " Min.   : 0.00   Min.   : 2.00   Min.   : 0.00    Min.   :    0  \n",
       " 1st Qu.: 6.00   1st Qu.:21.00   1st Qu.:30.00    1st Qu.: 5036  \n",
       " Median :14.00   Median :31.00   Median :40.00    Median :10498  \n",
       " Mean   :14.65   Mean   :33.11   Mean   :41.75    Mean   :10689  \n",
       " 3rd Qu.:23.00   3rd Qu.:48.00   3rd Qu.:55.00    3rd Qu.:16100  \n",
       " Max.   :33.00   Max.   :59.00   Max.   :83.00    Max.   :22169  \n",
       " item_cnt_month     mean_item_cnt     mean_item_price   revenue_month      \n",
       " Min.   :   1.000   Min.   :  1.000   Min.   :   0.09   Min.   :      0.1  \n",
       " 1st Qu.:   1.000   1st Qu.:  1.000   1st Qu.: 199.00   1st Qu.:    249.0  \n",
       " Median :   1.000   Median :  1.000   Median : 388.30   Median :    499.0  \n",
       " Mean   :   2.268   Mean   :  1.074   Mean   : 666.33   Mean   :   1749.5  \n",
       " 3rd Qu.:   2.000   3rd Qu.:  1.000   3rd Qu.: 824.33   3rd Qu.:   1398.0  \n",
       " Max.   :1644.000   Max.   :500.000   Max.   :4999.24   Max.   :2595200.0  "
      ]
     },
     "metadata": {},
     "output_type": "display_data"
    }
   ],
   "source": [
    "train_monthly<-train_monthly%>%transmute(date_block_num,shop_id, item_category_id, item_id,item_cnt_day,item_price,revenue)%>%group_by(date_block_num,shop_id, item_category_id, item_id)%>%summarize(item_cnt_month=sum(item_cnt_day),mean_item_cnt=mean(item_cnt_day),mean_item_price=mean(item_price),revenue_month=sum(revenue))\n",
    "train_monthly[train_monthly['shop_id'] == 0, 'shop_id'] = 57\n",
    "train_monthly[train_monthly['shop_id']== 1, 'shop_id'] = 58\n",
    "train_monthly[train_monthly['shop_id'] == 11, 'shop_id'] = 10\n",
    "train_monthly[train_monthly['shop_id'] == 40, 'shop_id'] = 39\n",
    "head(train_monthly)\n",
    "summary(train_monthly)"
   ]
  },
  {
   "cell_type": "code",
   "execution_count": 90,
   "id": "920e7b67",
   "metadata": {},
   "outputs": [
    {
     "data": {
      "text/html": [
       "<table class=\"dataframe\">\n",
       "<caption>A matrix: 6 × 2 of type dbl</caption>\n",
       "<tbody>\n",
       "\t<tr><td>0</td><td>    48768</td></tr>\n",
       "\t<tr><td>1</td><td>    11346</td></tr>\n",
       "\t<tr><td>2</td><td>119708362</td></tr>\n",
       "\t<tr><td>3</td><td>175278317</td></tr>\n",
       "\t<tr><td>4</td><td> 16395750</td></tr>\n",
       "\t<tr><td>5</td><td> 40264582</td></tr>\n",
       "</tbody>\n",
       "</table>\n"
      ],
      "text/latex": [
       "A matrix: 6 × 2 of type dbl\n",
       "\\begin{tabular}{ll}\n",
       "\t 0 &     48768\\\\\n",
       "\t 1 &     11346\\\\\n",
       "\t 2 & 119708362\\\\\n",
       "\t 3 & 175278317\\\\\n",
       "\t 4 &  16395750\\\\\n",
       "\t 5 &  40264582\\\\\n",
       "\\end{tabular}\n"
      ],
      "text/markdown": [
       "\n",
       "A matrix: 6 × 2 of type dbl\n",
       "\n",
       "| 0 |     48768 |\n",
       "| 1 |     11346 |\n",
       "| 2 | 119708362 |\n",
       "| 3 | 175278317 |\n",
       "| 4 |  16395750 |\n",
       "| 5 |  40264582 |\n",
       "\n"
      ],
      "text/plain": [
       "     [,1] [,2]     \n",
       "[1,] 0        48768\n",
       "[2,] 1        11346\n",
       "[3,] 2    119708362\n",
       "[4,] 3    175278317\n",
       "[5,] 4     16395750\n",
       "[6,] 5     40264582"
      ]
     },
     "metadata": {},
     "output_type": "display_data"
    },
    {
     "data": {
      "text/plain": [
       "       V1              V2           \n",
       " Min.   : 0.00   Min.   :6.669e+03  \n",
       " 1st Qu.:20.75   1st Qu.:2.230e+06  \n",
       " Median :41.50   Median :4.964e+07  \n",
       " Mean   :41.50   Mean   :3.518e+08  \n",
       " 3rd Qu.:62.25   3rd Qu.:2.942e+08  \n",
       " Max.   :83.00   Max.   :8.274e+09  "
      ]
     },
     "metadata": {},
     "output_type": "display_data"
    }
   ],
   "source": [
    "cats <- sort(unique(train_monthly$item_category_id))\n",
    "df1 <-c()\n",
    "for(category in cats){   \n",
    "    df1<-rbind(df1,c(category,sum(train_monthly[which(train_monthly$item_category_id==category), 5])))\n",
    "#     cat(shop,\"\\t\",df,\"\\n\")\n",
    "}\n",
    "head(df1)\n",
    "summary(df1)"
   ]
  },
  {
   "cell_type": "code",
   "execution_count": 104,
   "id": "1efad3b9",
   "metadata": {},
   "outputs": [
    {
     "name": "stderr",
     "output_type": "stream",
     "text": [
      "Warning message in plot.window(xlim, ylim, log = log, ...):\n",
      "\"graphical parameter \"type\" is obsolete\"\n",
      "Warning message in axis(if (horiz) 2 else 1, at = at.l, labels = names.arg, lty = axis.lty, :\n",
      "\"graphical parameter \"type\" is obsolete\"\n",
      "Warning message in title(main = main, sub = sub, xlab = xlab, ylab = ylab, ...):\n",
      "\"graphical parameter \"type\" is obsolete\"\n",
      "Warning message in axis(if (horiz) 1 else 2, cex.axis = cex.axis, ...):\n",
      "\"graphical parameter \"type\" is obsolete\"\n"
     ]
    },
    {
     "data": {
      "image/png": "[encoded data removed]",
      "text/plain": [
       "Plot with title \"Item category counts per month\""
      ]
     },
     "metadata": {
      "image/png": {
       "height": 600,
       "width": 1080
      }
     },
     "output_type": "display_data"
    }
   ],
   "source": [
    "options(repr.plot.width=18, repr.plot.height=10)\n",
    "barplot(df1[,2] ~ df1[,1],type=\"h\",ylab=\"\",xlab=\"Item category\",main=\"Item category counts per month\",las=2,cex.names=1,col=coul)"
   ]
  }
 ],
 "metadata": {
  "kernelspec": {
   "display_name": "R",
   "language": "R",
   "name": "ir"
  },
  "language_info": {
   "codemirror_mode": "r",
   "file_extension": ".r",
   "mimetype": "text/x-r-source",
   "name": "R",
   "pygments_lexer": "r",
   "version": "4.2.1"
  }
 },
 "nbformat": 4,
 "nbformat_minor": 5
}
